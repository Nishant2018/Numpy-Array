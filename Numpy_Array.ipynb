{
 "cells": [
  {
   "cell_type": "code",
   "execution_count": 1,
   "id": "5bf881a0",
   "metadata": {},
   "outputs": [],
   "source": [
    "import numpy as np"
   ]
  },
  {
   "cell_type": "code",
   "execution_count": 2,
   "id": "8749445d",
   "metadata": {},
   "outputs": [],
   "source": [
    "My_Array = np.array([6,8,3,4,7,9,2,1,3,4,7,3,2,8,25,1,8])"
   ]
  },
  {
   "cell_type": "code",
   "execution_count": 3,
   "id": "a75c5fa4",
   "metadata": {},
   "outputs": [
    {
     "data": {
      "text/plain": [
       "array([ 6,  8,  3,  4,  7,  9,  2,  1,  3,  4,  7,  3,  2,  8, 25,  1,  8])"
      ]
     },
     "execution_count": 3,
     "metadata": {},
     "output_type": "execute_result"
    }
   ],
   "source": [
    "My_Array"
   ]
  },
  {
   "cell_type": "code",
   "execution_count": 4,
   "id": "c009889e",
   "metadata": {},
   "outputs": [
    {
     "name": "stdout",
     "output_type": "stream",
     "text": [
      "<class 'numpy.ndarray'>\n"
     ]
    }
   ],
   "source": [
    "print(type(My_Array))"
   ]
  },
  {
   "cell_type": "markdown",
   "id": "745a680c",
   "metadata": {},
   "source": [
    "2D Array"
   ]
  },
  {
   "cell_type": "code",
   "execution_count": 5,
   "id": "9662dd08",
   "metadata": {},
   "outputs": [],
   "source": [
    "my_array_2 = np.array([[23,5,8],[3,9,4],[6,9,7]])"
   ]
  },
  {
   "cell_type": "code",
   "execution_count": 6,
   "id": "0e45bbfe",
   "metadata": {},
   "outputs": [
    {
     "name": "stdout",
     "output_type": "stream",
     "text": [
      "[[23  5  8]\n",
      " [ 3  9  4]\n",
      " [ 6  9  7]]\n"
     ]
    }
   ],
   "source": [
    "print(my_array_2)"
   ]
  },
  {
   "cell_type": "markdown",
   "id": "7af00b7c",
   "metadata": {},
   "source": [
    "3D Array"
   ]
  },
  {
   "cell_type": "code",
   "execution_count": 7,
   "id": "74a6f1f1",
   "metadata": {},
   "outputs": [],
   "source": [
    "my_array_3 = np.array([[[3,9,6],[4,5,2]],[[7,8,1],[3,4,9]]])\n"
   ]
  },
  {
   "cell_type": "code",
   "execution_count": 8,
   "id": "b3a2cc6b",
   "metadata": {},
   "outputs": [
    {
     "name": "stdout",
     "output_type": "stream",
     "text": [
      "[[[3 9 6]\n",
      "  [4 5 2]]\n",
      "\n",
      " [[7 8 1]\n",
      "  [3 4 9]]]\n"
     ]
    }
   ],
   "source": [
    "print(my_array_3)"
   ]
  },
  {
   "cell_type": "code",
   "execution_count": 9,
   "id": "3d4e81e0",
   "metadata": {},
   "outputs": [
    {
     "name": "stdout",
     "output_type": "stream",
     "text": [
      "1\n",
      "2\n",
      "3\n"
     ]
    }
   ],
   "source": [
    "print(My_Array.ndim)\n",
    "print(my_array_2.ndim)\n",
    "print(my_array_3.ndim)"
   ]
  },
  {
   "cell_type": "code",
   "execution_count": 10,
   "id": "ded8e52a",
   "metadata": {},
   "outputs": [
    {
     "name": "stdout",
     "output_type": "stream",
     "text": [
      "[[[[[1 2 3 4 5]]]]]\n"
     ]
    }
   ],
   "source": [
    "arr = np.array([1,2,3,4,5],ndmin=5)\n",
    "print(arr)"
   ]
  },
  {
   "cell_type": "code",
   "execution_count": 11,
   "id": "d46cf331",
   "metadata": {},
   "outputs": [
    {
     "name": "stdout",
     "output_type": "stream",
     "text": [
      "4\n"
     ]
    }
   ],
   "source": [
    "print(My_Array[3])"
   ]
  },
  {
   "cell_type": "code",
   "execution_count": 12,
   "id": "30d0f58f",
   "metadata": {},
   "outputs": [
    {
     "name": "stdout",
     "output_type": "stream",
     "text": [
      "9\n"
     ]
    }
   ],
   "source": [
    "print(my_array_2[2,1])"
   ]
  },
  {
   "cell_type": "code",
   "execution_count": 13,
   "id": "0ca44769",
   "metadata": {},
   "outputs": [
    {
     "name": "stdout",
     "output_type": "stream",
     "text": [
      "[3 4 7 9]\n"
     ]
    }
   ],
   "source": [
    "print(My_Array[2:6])"
   ]
  },
  {
   "cell_type": "code",
   "execution_count": 14,
   "id": "15f57d4f",
   "metadata": {},
   "outputs": [
    {
     "name": "stdout",
     "output_type": "stream",
     "text": [
      "[8 4 9 1]\n"
     ]
    }
   ],
   "source": [
    "print(My_Array[1:8:2])"
   ]
  },
  {
   "cell_type": "code",
   "execution_count": 15,
   "id": "71fe9c89",
   "metadata": {},
   "outputs": [
    {
     "name": "stdout",
     "output_type": "stream",
     "text": [
      "[ 6  8  3 55  7  9  2  1  3  4  7  3  2  8 25  1  8]\n"
     ]
    }
   ],
   "source": [
    "My_Array[3]=55\n",
    "print(My_Array)"
   ]
  },
  {
   "cell_type": "code",
   "execution_count": 16,
   "id": "a33489a5",
   "metadata": {},
   "outputs": [
    {
     "name": "stdout",
     "output_type": "stream",
     "text": [
      "(17,)\n"
     ]
    }
   ],
   "source": [
    "print(My_Array.shape)"
   ]
  },
  {
   "cell_type": "code",
   "execution_count": 17,
   "id": "82bf1a78",
   "metadata": {},
   "outputs": [
    {
     "name": "stdout",
     "output_type": "stream",
     "text": [
      "(3, 3)\n"
     ]
    }
   ],
   "source": [
    "print(my_array_2.shape)"
   ]
  },
  {
   "cell_type": "code",
   "execution_count": 18,
   "id": "f8e4af15",
   "metadata": {},
   "outputs": [
    {
     "name": "stdout",
     "output_type": "stream",
     "text": [
      "(2, 2, 3)\n"
     ]
    }
   ],
   "source": [
    "print(my_array_3.shape)"
   ]
  },
  {
   "cell_type": "code",
   "execution_count": 19,
   "id": "efd919ac",
   "metadata": {},
   "outputs": [
    {
     "name": "stdout",
     "output_type": "stream",
     "text": [
      "(18,)\n"
     ]
    }
   ],
   "source": [
    "My_Array_4 = np.array([6,8,3,4,7,9,2,1,3,4,7,3,2,8,25,1,8,4])\n",
    "print(My_Array_4.shape)"
   ]
  },
  {
   "cell_type": "code",
   "execution_count": 20,
   "id": "2e1fe8be",
   "metadata": {},
   "outputs": [
    {
     "name": "stdout",
     "output_type": "stream",
     "text": [
      "[[ 6  8  3]\n",
      " [ 4  7  9]\n",
      " [ 2  1  3]\n",
      " [ 4  7  3]\n",
      " [ 2  8 25]\n",
      " [ 1  8  4]]\n"
     ]
    }
   ],
   "source": [
    "new_array = My_Array_4.reshape(6,3)\n",
    "print(new_array)"
   ]
  },
  {
   "cell_type": "code",
   "execution_count": 21,
   "id": "b9893ddb",
   "metadata": {},
   "outputs": [
    {
     "name": "stdout",
     "output_type": "stream",
     "text": [
      "6\n",
      "8\n",
      "3\n",
      "4\n",
      "7\n",
      "9\n",
      "2\n",
      "1\n",
      "3\n",
      "4\n",
      "7\n",
      "3\n",
      "2\n",
      "8\n",
      "25\n",
      "1\n",
      "8\n",
      "4\n"
     ]
    }
   ],
   "source": [
    "for x in My_Array_4:\n",
    "    print(x)"
   ]
  },
  {
   "cell_type": "code",
   "execution_count": 22,
   "id": "3066001a",
   "metadata": {},
   "outputs": [
    {
     "name": "stdout",
     "output_type": "stream",
     "text": [
      "[23  5  8]\n",
      "[3 9 4]\n",
      "[6 9 7]\n"
     ]
    }
   ],
   "source": [
    "for x in my_array_2:\n",
    "    print(x)"
   ]
  },
  {
   "cell_type": "code",
   "execution_count": 23,
   "id": "0884fcfe",
   "metadata": {},
   "outputs": [
    {
     "name": "stdout",
     "output_type": "stream",
     "text": [
      "[[3 9 6]\n",
      " [4 5 2]]\n",
      "[[7 8 1]\n",
      " [3 4 9]]\n"
     ]
    }
   ],
   "source": [
    "for x in my_array_3:\n",
    "    print(x)"
   ]
  },
  {
   "cell_type": "code",
   "execution_count": 24,
   "id": "ef266aa8",
   "metadata": {},
   "outputs": [
    {
     "name": "stdout",
     "output_type": "stream",
     "text": [
      "23\n",
      "5\n",
      "8\n",
      "3\n",
      "9\n",
      "4\n",
      "6\n",
      "9\n",
      "7\n"
     ]
    }
   ],
   "source": [
    "for x in my_array_2:\n",
    "    for y in x:\n",
    "        print(y)"
   ]
  },
  {
   "cell_type": "code",
   "execution_count": 25,
   "id": "7ba87084",
   "metadata": {},
   "outputs": [
    {
     "name": "stdout",
     "output_type": "stream",
     "text": [
      "[[3 9 6]\n",
      " [4 5 2]]\n",
      "[[7 8 1]\n",
      " [3 4 9]]\n"
     ]
    }
   ],
   "source": [
    "for x in my_array_3:\n",
    "    print(x)"
   ]
  },
  {
   "cell_type": "code",
   "execution_count": 26,
   "id": "5e9c06b1",
   "metadata": {},
   "outputs": [
    {
     "name": "stdout",
     "output_type": "stream",
     "text": [
      "3\n",
      "9\n",
      "6\n",
      "4\n",
      "5\n",
      "2\n",
      "7\n",
      "8\n",
      "1\n",
      "3\n",
      "4\n",
      "9\n"
     ]
    }
   ],
   "source": [
    "for x in my_array_3:\n",
    "    for y in x:\n",
    "        for z in y:\n",
    "            print(z)"
   ]
  },
  {
   "cell_type": "code",
   "execution_count": 27,
   "id": "60135ec8",
   "metadata": {},
   "outputs": [
    {
     "name": "stdout",
     "output_type": "stream",
     "text": [
      "[array([6, 8, 3, 4, 7, 9]), array([2, 1, 3, 4, 7, 3]), array([ 2,  8, 25,  1,  8,  4])]\n"
     ]
    }
   ],
   "source": [
    "newarray = np.array_split(My_Array_4,3)\n",
    "print(newarray)"
   ]
  },
  {
   "cell_type": "code",
   "execution_count": 28,
   "id": "d8d86c8a",
   "metadata": {},
   "outputs": [
    {
     "name": "stdout",
     "output_type": "stream",
     "text": [
      "[array([6, 8, 3]), array([4, 7, 9]), array([2, 1, 3]), array([4, 7, 3]), array([ 2,  8, 25]), array([1, 8, 4])]\n"
     ]
    }
   ],
   "source": [
    "newarray = np.array_split(My_Array_4,6)\n",
    "print(newarray)"
   ]
  },
  {
   "cell_type": "markdown",
   "id": "d1b0814c",
   "metadata": {},
   "source": [
    "Searching Arrays........\n",
    "\n"
   ]
  },
  {
   "cell_type": "code",
   "execution_count": 29,
   "id": "664c2785",
   "metadata": {},
   "outputs": [
    {
     "name": "stdout",
     "output_type": "stream",
     "text": [
      "(array([ 7, 15], dtype=int64),)\n"
     ]
    }
   ],
   "source": [
    "Searching = np.where(My_Array_4==1)\n",
    "print(Searching)"
   ]
  },
  {
   "cell_type": "code",
   "execution_count": 30,
   "id": "d7b3c009",
   "metadata": {},
   "outputs": [
    {
     "name": "stdout",
     "output_type": "stream",
     "text": [
      "(array([ 0,  1,  3,  6,  9, 12, 13, 16, 17], dtype=int64),)\n"
     ]
    }
   ],
   "source": [
    "Searching = np.where(My_Array_4%2==0)\n",
    "print(Searching)"
   ]
  },
  {
   "cell_type": "code",
   "execution_count": 31,
   "id": "8f8a7875",
   "metadata": {},
   "outputs": [
    {
     "name": "stdout",
     "output_type": "stream",
     "text": [
      "[ 1  1  2  2  3  3  3  4  4  4  6  7  7  8  8  8  9 25]\n"
     ]
    }
   ],
   "source": [
    "Sort = np.sort(My_Array_4)\n",
    "print(Sort)"
   ]
  },
  {
   "cell_type": "code",
   "execution_count": 32,
   "id": "a4215b2d",
   "metadata": {},
   "outputs": [
    {
     "name": "stdout",
     "output_type": "stream",
     "text": [
      "[[ 5  8 23]\n",
      " [ 3  4  9]\n",
      " [ 6  7  9]]\n"
     ]
    }
   ],
   "source": [
    "Sort = np.sort(my_array_2)\n",
    "print(Sort)"
   ]
  },
  {
   "cell_type": "markdown",
   "id": "4b25b26e",
   "metadata": {},
   "source": [
    "# Random NumPy"
   ]
  },
  {
   "cell_type": "code",
   "execution_count": 33,
   "id": "06e24fef",
   "metadata": {},
   "outputs": [],
   "source": [
    "from numpy import random"
   ]
  },
  {
   "cell_type": "code",
   "execution_count": 34,
   "id": "9538f742",
   "metadata": {},
   "outputs": [
    {
     "name": "stdout",
     "output_type": "stream",
     "text": [
      "20\n"
     ]
    }
   ],
   "source": [
    "x = random.randint(100)\n",
    "print(x)"
   ]
  },
  {
   "cell_type": "code",
   "execution_count": 35,
   "id": "678b7c4a",
   "metadata": {},
   "outputs": [
    {
     "name": "stdout",
     "output_type": "stream",
     "text": [
      "15\n"
     ]
    }
   ],
   "source": [
    "x = random.randint(100)\n",
    "print(x)"
   ]
  },
  {
   "cell_type": "code",
   "execution_count": 36,
   "id": "03f56262",
   "metadata": {},
   "outputs": [
    {
     "name": "stdout",
     "output_type": "stream",
     "text": [
      "0.636750992657191\n"
     ]
    }
   ],
   "source": [
    "x = random.rand()\n",
    "print(x)"
   ]
  },
  {
   "cell_type": "markdown",
   "id": "11ab5c3e",
   "metadata": {},
   "source": [
    "Generating Random array"
   ]
  },
  {
   "cell_type": "code",
   "execution_count": 37,
   "id": "76e0f7f2",
   "metadata": {},
   "outputs": [
    {
     "name": "stdout",
     "output_type": "stream",
     "text": [
      "[38 71 28 83 59]\n"
     ]
    }
   ],
   "source": [
    "x = random.randint(100,size=(5))\n",
    "print(x)"
   ]
  },
  {
   "cell_type": "code",
   "execution_count": 38,
   "id": "66b7d1cd",
   "metadata": {},
   "outputs": [
    {
     "name": "stdout",
     "output_type": "stream",
     "text": [
      "[0.71749373 0.34468392 0.37607565 0.85777284 0.16375552]\n"
     ]
    }
   ],
   "source": [
    "x = random.rand(5)\n",
    "print(x)"
   ]
  },
  {
   "cell_type": "code",
   "execution_count": 39,
   "id": "4796e952",
   "metadata": {},
   "outputs": [
    {
     "name": "stdout",
     "output_type": "stream",
     "text": [
      "[[0.63318976 0.19612183 0.85622446 0.18202343 0.47119213]\n",
      " [0.77978395 0.96541445 0.24837819 0.04314094 0.09616823]\n",
      " [0.84092161 0.80371319 0.19792084 0.11807054 0.27117566]]\n"
     ]
    }
   ],
   "source": [
    "x = random.rand(3,5)\n",
    "print(x)"
   ]
  },
  {
   "cell_type": "markdown",
   "id": "1e197e7c",
   "metadata": {},
   "source": [
    "Choose Random Value\n"
   ]
  },
  {
   "cell_type": "code",
   "execution_count": 40,
   "id": "025a8ef1",
   "metadata": {},
   "outputs": [
    {
     "name": "stdout",
     "output_type": "stream",
     "text": [
      "2\n"
     ]
    }
   ],
   "source": [
    "x = random.choice(My_Array_4)\n",
    "print(x)"
   ]
  },
  {
   "cell_type": "code",
   "execution_count": null,
   "id": "c6d200ca",
   "metadata": {},
   "outputs": [],
   "source": []
  }
 ],
 "metadata": {
  "kernelspec": {
   "display_name": "Python 3 (ipykernel)",
   "language": "python",
   "name": "python3"
  },
  "language_info": {
   "codemirror_mode": {
    "name": "ipython",
    "version": 3
   },
   "file_extension": ".py",
   "mimetype": "text/x-python",
   "name": "python",
   "nbconvert_exporter": "python",
   "pygments_lexer": "ipython3",
   "version": "3.9.13"
  },
  "vscode": {
   "interpreter": {
    "hash": "4e4a7476d8190069ff101fcbf3502c9aac5a9f12615e9b7e2715bdbf3baef4cb"
   }
  }
 },
 "nbformat": 4,
 "nbformat_minor": 5
}
