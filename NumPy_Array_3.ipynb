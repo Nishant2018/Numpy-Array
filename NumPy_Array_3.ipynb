{
 "cells": [
  {
   "cell_type": "code",
   "execution_count": 1,
   "id": "d9ab9462",
   "metadata": {},
   "outputs": [],
   "source": [
    "import numpy as np"
   ]
  },
  {
   "cell_type": "markdown",
   "id": "6d39d367",
   "metadata": {},
   "source": [
    "# 1D Array"
   ]
  },
  {
   "cell_type": "code",
   "execution_count": 2,
   "id": "47d95daa",
   "metadata": {},
   "outputs": [],
   "source": [
    "my_array = np.array([3,9,4,2,8,6,1,0,7,3,9])"
   ]
  },
  {
   "cell_type": "code",
   "execution_count": 3,
   "id": "6ae4df9d",
   "metadata": {},
   "outputs": [
    {
     "data": {
      "text/plain": [
       "array([3, 9, 4, 2, 8, 6, 1, 0, 7, 3, 9])"
      ]
     },
     "execution_count": 3,
     "metadata": {},
     "output_type": "execute_result"
    }
   ],
   "source": [
    "my_array"
   ]
  },
  {
   "cell_type": "code",
   "execution_count": 4,
   "id": "c708b666",
   "metadata": {},
   "outputs": [
    {
     "name": "stdout",
     "output_type": "stream",
     "text": [
      "<class 'numpy.ndarray'>\n"
     ]
    }
   ],
   "source": [
    "print(type(my_array))"
   ]
  },
  {
   "cell_type": "code",
   "execution_count": 6,
   "id": "f21b1c3e",
   "metadata": {},
   "outputs": [
    {
     "data": {
      "text/plain": [
       "11"
      ]
     },
     "execution_count": 6,
     "metadata": {},
     "output_type": "execute_result"
    }
   ],
   "source": [
    "np.size(my_array)"
   ]
  },
  {
   "cell_type": "code",
   "execution_count": 7,
   "id": "90288724",
   "metadata": {},
   "outputs": [],
   "source": [
    "import statistics as st"
   ]
  },
  {
   "cell_type": "code",
   "execution_count": 8,
   "id": "7605373b",
   "metadata": {},
   "outputs": [
    {
     "data": {
      "text/plain": [
       "4"
      ]
     },
     "execution_count": 8,
     "metadata": {},
     "output_type": "execute_result"
    }
   ],
   "source": [
    "st.mean(my_array)"
   ]
  },
  {
   "cell_type": "code",
   "execution_count": 9,
   "id": "d8703cd6",
   "metadata": {},
   "outputs": [
    {
     "data": {
      "text/plain": [
       "3"
      ]
     },
     "execution_count": 9,
     "metadata": {},
     "output_type": "execute_result"
    }
   ],
   "source": [
    "st.mode(my_array)"
   ]
  },
  {
   "cell_type": "code",
   "execution_count": 10,
   "id": "bc051a64",
   "metadata": {},
   "outputs": [
    {
     "data": {
      "text/plain": [
       "4"
      ]
     },
     "execution_count": 10,
     "metadata": {},
     "output_type": "execute_result"
    }
   ],
   "source": [
    "st.median(my_array)"
   ]
  },
  {
   "cell_type": "code",
   "execution_count": 11,
   "id": "2610c5fa",
   "metadata": {},
   "outputs": [
    {
     "data": {
      "text/plain": [
       "3.1622776601683795"
      ]
     },
     "execution_count": 11,
     "metadata": {},
     "output_type": "execute_result"
    }
   ],
   "source": [
    "st.stdev(my_array)"
   ]
  },
  {
   "cell_type": "code",
   "execution_count": 16,
   "id": "cf7acb35",
   "metadata": {},
   "outputs": [
    {
     "data": {
      "text/plain": [
       "10"
      ]
     },
     "execution_count": 16,
     "metadata": {},
     "output_type": "execute_result"
    }
   ],
   "source": [
    "st.variance(my_array)"
   ]
  },
  {
   "cell_type": "markdown",
   "id": "89e229c6",
   "metadata": {},
   "source": [
    "# 2D Array"
   ]
  },
  {
   "cell_type": "code",
   "execution_count": 22,
   "id": "4aedf28d",
   "metadata": {},
   "outputs": [
    {
     "data": {
      "text/plain": [
       "array([[2, 6, 1],\n",
       "       [9, 5, 7],\n",
       "       [6, 7, 3]])"
      ]
     },
     "execution_count": 22,
     "metadata": {},
     "output_type": "execute_result"
    }
   ],
   "source": [
    "my_array2 = np.array([[2,6,1],[9,5,7],[6,7,3]])\n",
    "my_array2"
   ]
  },
  {
   "cell_type": "code",
   "execution_count": 37,
   "id": "4f9a682b",
   "metadata": {},
   "outputs": [
    {
     "data": {
      "text/plain": [
       "9"
      ]
     },
     "execution_count": 37,
     "metadata": {},
     "output_type": "execute_result"
    }
   ],
   "source": [
    "np.size(my_array2)"
   ]
  },
  {
   "cell_type": "code",
   "execution_count": 25,
   "id": "ad70c47f",
   "metadata": {},
   "outputs": [
    {
     "data": {
      "text/plain": [
       "array([5.66666667, 6.        , 3.66666667])"
      ]
     },
     "execution_count": 25,
     "metadata": {},
     "output_type": "execute_result"
    }
   ],
   "source": [
    "np.mean(my_array2,axis=0)"
   ]
  },
  {
   "cell_type": "code",
   "execution_count": 26,
   "id": "4c562ebb",
   "metadata": {},
   "outputs": [
    {
     "data": {
      "text/plain": [
       "array([3.        , 7.        , 5.33333333])"
      ]
     },
     "execution_count": 26,
     "metadata": {},
     "output_type": "execute_result"
    }
   ],
   "source": [
    "np.mean(my_array2,axis=1)"
   ]
  },
  {
   "cell_type": "code",
   "execution_count": 29,
   "id": "268bd6b7",
   "metadata": {},
   "outputs": [
    {
     "data": {
      "text/plain": [
       "6.0"
      ]
     },
     "execution_count": 29,
     "metadata": {},
     "output_type": "execute_result"
    }
   ],
   "source": [
    "np.median(my_array2)"
   ]
  },
  {
   "cell_type": "code",
   "execution_count": 30,
   "id": "478c9c4b",
   "metadata": {},
   "outputs": [
    {
     "data": {
      "text/plain": [
       "array([6., 6., 3.])"
      ]
     },
     "execution_count": 30,
     "metadata": {},
     "output_type": "execute_result"
    }
   ],
   "source": [
    "np.median(my_array2,axis=0)"
   ]
  },
  {
   "cell_type": "code",
   "execution_count": 32,
   "id": "bf0c4cb8",
   "metadata": {},
   "outputs": [
    {
     "data": {
      "text/plain": [
       "array([2., 7., 6.])"
      ]
     },
     "execution_count": 32,
     "metadata": {},
     "output_type": "execute_result"
    }
   ],
   "source": [
    "np.median(my_array2,axis=1)"
   ]
  },
  {
   "cell_type": "code",
   "execution_count": 34,
   "id": "f133786a",
   "metadata": {},
   "outputs": [
    {
     "data": {
      "text/plain": [
       "2.469567863432541"
      ]
     },
     "execution_count": 34,
     "metadata": {},
     "output_type": "execute_result"
    }
   ],
   "source": [
    "np.std(my_array2)"
   ]
  },
  {
   "cell_type": "code",
   "execution_count": 35,
   "id": "b6137052",
   "metadata": {},
   "outputs": [
    {
     "data": {
      "text/plain": [
       "array([[ 1.        , -0.75592895,  0.81705717],\n",
       "       [-0.75592895,  1.        , -0.24019223],\n",
       "       [ 0.81705717, -0.24019223,  1.        ]])"
      ]
     },
     "execution_count": 35,
     "metadata": {},
     "output_type": "execute_result"
    }
   ],
   "source": [
    "np.corrcoef(my_array2)"
   ]
  },
  {
   "cell_type": "markdown",
   "id": "4314651e",
   "metadata": {},
   "source": [
    "# 3D Array"
   ]
  },
  {
   "cell_type": "code",
   "execution_count": 36,
   "id": "f2619750",
   "metadata": {},
   "outputs": [
    {
     "data": {
      "text/plain": [
       "array([[[5, 8, 1],\n",
       "        [9, 3, 7]],\n",
       "\n",
       "       [[7, 1, 6],\n",
       "        [8, 2, 5]],\n",
       "\n",
       "       [[1, 9, 5],\n",
       "        [6, 5, 4]]])"
      ]
     },
     "execution_count": 36,
     "metadata": {},
     "output_type": "execute_result"
    }
   ],
   "source": [
    "my_array3 = np.array([[[5,8,1],[9,3,7]],[[7,1,6],[8,2,5]],[[1,9,5],[6,5,4]]])\n",
    "my_array3"
   ]
  },
  {
   "cell_type": "code",
   "execution_count": 38,
   "id": "12015af6",
   "metadata": {},
   "outputs": [
    {
     "data": {
      "text/plain": [
       "18"
      ]
     },
     "execution_count": 38,
     "metadata": {},
     "output_type": "execute_result"
    }
   ],
   "source": [
    "np.size(my_array3)"
   ]
  },
  {
   "cell_type": "code",
   "execution_count": 39,
   "id": "697bd2cf",
   "metadata": {},
   "outputs": [
    {
     "name": "stdout",
     "output_type": "stream",
     "text": [
      "1\n"
     ]
    }
   ],
   "source": [
    "print(my_array.ndim)"
   ]
  },
  {
   "cell_type": "code",
   "execution_count": 41,
   "id": "62fe0aea",
   "metadata": {},
   "outputs": [
    {
     "name": "stdout",
     "output_type": "stream",
     "text": [
      "2\n"
     ]
    }
   ],
   "source": [
    "print(my_array2.ndim)"
   ]
  },
  {
   "cell_type": "code",
   "execution_count": 42,
   "id": "f17c68cb",
   "metadata": {},
   "outputs": [
    {
     "name": "stdout",
     "output_type": "stream",
     "text": [
      "3\n"
     ]
    }
   ],
   "source": [
    "print(my_array3.ndim)"
   ]
  },
  {
   "cell_type": "markdown",
   "id": "3aaa00e3",
   "metadata": {},
   "source": [
    "# Automatic n-dimension array creation"
   ]
  },
  {
   "cell_type": "code",
   "execution_count": 43,
   "id": "91436e65",
   "metadata": {},
   "outputs": [
    {
     "data": {
      "text/plain": [
       "array([[[[[[9, 5, 1, 7, 5, 3, 6, 5, 4]]]]]])"
      ]
     },
     "execution_count": 43,
     "metadata": {},
     "output_type": "execute_result"
    }
   ],
   "source": [
    "array = np.array([9,5,1,7,5,3,6,5,4],ndmin=6)\n",
    "array"
   ]
  },
  {
   "cell_type": "markdown",
   "id": "c753b1f7",
   "metadata": {},
   "source": [
    "# Using loop in n- dimension array"
   ]
  },
  {
   "cell_type": "code",
   "execution_count": 44,
   "id": "687a697b",
   "metadata": {},
   "outputs": [
    {
     "name": "stdout",
     "output_type": "stream",
     "text": [
      "3\n",
      "9\n",
      "4\n",
      "2\n",
      "8\n",
      "6\n",
      "1\n",
      "0\n",
      "7\n",
      "3\n",
      "9\n"
     ]
    }
   ],
   "source": [
    "for x in my_array:\n",
    "    print(x)"
   ]
  },
  {
   "cell_type": "code",
   "execution_count": 45,
   "id": "e4f43640",
   "metadata": {},
   "outputs": [
    {
     "name": "stdout",
     "output_type": "stream",
     "text": [
      "[2 6 1]\n",
      "[9 5 7]\n",
      "[6 7 3]\n"
     ]
    }
   ],
   "source": [
    "for x in my_array2:\n",
    "    print(x)"
   ]
  },
  {
   "cell_type": "code",
   "execution_count": 47,
   "id": "b7a5fe57",
   "metadata": {},
   "outputs": [
    {
     "name": "stdout",
     "output_type": "stream",
     "text": [
      "2\n",
      "6\n",
      "1\n",
      "9\n",
      "5\n",
      "7\n",
      "6\n",
      "7\n",
      "3\n"
     ]
    }
   ],
   "source": [
    "for x in my_array2:\n",
    "    for y in x:\n",
    "        print(y)"
   ]
  },
  {
   "cell_type": "code",
   "execution_count": 49,
   "id": "e4c6e743",
   "metadata": {},
   "outputs": [
    {
     "name": "stdout",
     "output_type": "stream",
     "text": [
      "[[5 8 1]\n",
      " [9 3 7]]\n",
      "[[7 1 6]\n",
      " [8 2 5]]\n",
      "[[1 9 5]\n",
      " [6 5 4]]\n"
     ]
    }
   ],
   "source": [
    "for x in my_array3:\n",
    "    print(x)"
   ]
  },
  {
   "cell_type": "code",
   "execution_count": 50,
   "id": "acb5a68f",
   "metadata": {},
   "outputs": [
    {
     "name": "stdout",
     "output_type": "stream",
     "text": [
      "5\n",
      "8\n",
      "1\n",
      "9\n",
      "3\n",
      "7\n",
      "7\n",
      "1\n",
      "6\n",
      "8\n",
      "2\n",
      "5\n",
      "1\n",
      "9\n",
      "5\n",
      "6\n",
      "5\n",
      "4\n"
     ]
    }
   ],
   "source": [
    "\n",
    "for x in my_array3:\n",
    "    for y in x:\n",
    "        for z in y:\n",
    "            print(z)"
   ]
  },
  {
   "cell_type": "markdown",
   "id": "a5538618",
   "metadata": {},
   "source": [
    "# Scalar Math in array..."
   ]
  },
  {
   "cell_type": "code",
   "execution_count": 51,
   "id": "8120bb46",
   "metadata": {},
   "outputs": [
    {
     "data": {
      "text/plain": [
       "array([ 6, 12,  7,  5, 11,  9,  4,  3, 10,  6, 12])"
      ]
     },
     "execution_count": 51,
     "metadata": {},
     "output_type": "execute_result"
    }
   ],
   "source": [
    "np.add(my_array,3)"
   ]
  },
  {
   "cell_type": "code",
   "execution_count": 52,
   "id": "dc099d72",
   "metadata": {},
   "outputs": [
    {
     "data": {
      "text/plain": [
       "array([[ 5,  9,  4],\n",
       "       [12,  8, 10],\n",
       "       [ 9, 10,  6]])"
      ]
     },
     "execution_count": 52,
     "metadata": {},
     "output_type": "execute_result"
    }
   ],
   "source": [
    "np.add(my_array2,3)"
   ]
  },
  {
   "cell_type": "code",
   "execution_count": 53,
   "id": "5f3eef22",
   "metadata": {},
   "outputs": [
    {
     "data": {
      "text/plain": [
       "array([[[13, 16,  9],\n",
       "        [17, 11, 15]],\n",
       "\n",
       "       [[15,  9, 14],\n",
       "        [16, 10, 13]],\n",
       "\n",
       "       [[ 9, 17, 13],\n",
       "        [14, 13, 12]]])"
      ]
     },
     "execution_count": 53,
     "metadata": {},
     "output_type": "execute_result"
    }
   ],
   "source": [
    "np.add(my_array3,8)"
   ]
  },
  {
   "cell_type": "code",
   "execution_count": 56,
   "id": "98473bb8",
   "metadata": {},
   "outputs": [
    {
     "data": {
      "text/plain": [
       "array([ 2,  8,  3,  1,  7,  5,  0, -1,  6,  2,  8])"
      ]
     },
     "execution_count": 56,
     "metadata": {},
     "output_type": "execute_result"
    }
   ],
   "source": [
    "np.subtract(my_array,1)"
   ]
  },
  {
   "cell_type": "code",
   "execution_count": 57,
   "id": "ea8af1d8",
   "metadata": {},
   "outputs": [
    {
     "data": {
      "text/plain": [
       "array([[-1,  3, -2],\n",
       "       [ 6,  2,  4],\n",
       "       [ 3,  4,  0]])"
      ]
     },
     "execution_count": 57,
     "metadata": {},
     "output_type": "execute_result"
    }
   ],
   "source": [
    "np.subtract(my_array2,3)"
   ]
  },
  {
   "cell_type": "code",
   "execution_count": 58,
   "id": "b260261f",
   "metadata": {},
   "outputs": [
    {
     "data": {
      "text/plain": [
       "array([[[ 1,  4, -3],\n",
       "        [ 5, -1,  3]],\n",
       "\n",
       "       [[ 3, -3,  2],\n",
       "        [ 4, -2,  1]],\n",
       "\n",
       "       [[-3,  5,  1],\n",
       "        [ 2,  1,  0]]])"
      ]
     },
     "execution_count": 58,
     "metadata": {},
     "output_type": "execute_result"
    }
   ],
   "source": [
    "np.subtract(my_array3,4)"
   ]
  },
  {
   "cell_type": "code",
   "execution_count": 61,
   "id": "7eb71feb",
   "metadata": {},
   "outputs": [
    {
     "data": {
      "text/plain": [
       "array([ 9, 27, 12,  6, 24, 18,  3,  0, 21,  9, 27])"
      ]
     },
     "execution_count": 61,
     "metadata": {},
     "output_type": "execute_result"
    }
   ],
   "source": [
    "np.multiply(my_array,3)"
   ]
  },
  {
   "cell_type": "code",
   "execution_count": 62,
   "id": "6981e271",
   "metadata": {},
   "outputs": [
    {
     "data": {
      "text/plain": [
       "array([[10, 30,  5],\n",
       "       [45, 25, 35],\n",
       "       [30, 35, 15]])"
      ]
     },
     "execution_count": 62,
     "metadata": {},
     "output_type": "execute_result"
    }
   ],
   "source": [
    "np.multiply(my_array2,5)"
   ]
  },
  {
   "cell_type": "code",
   "execution_count": 63,
   "id": "0a4377c3",
   "metadata": {},
   "outputs": [
    {
     "data": {
      "text/plain": [
       "array([[[30, 48,  6],\n",
       "        [54, 18, 42]],\n",
       "\n",
       "       [[42,  6, 36],\n",
       "        [48, 12, 30]],\n",
       "\n",
       "       [[ 6, 54, 30],\n",
       "        [36, 30, 24]]])"
      ]
     },
     "execution_count": 63,
     "metadata": {},
     "output_type": "execute_result"
    }
   ],
   "source": [
    "np.multiply(my_array3,6)"
   ]
  },
  {
   "cell_type": "code",
   "execution_count": 64,
   "id": "763c2c25",
   "metadata": {},
   "outputs": [
    {
     "data": {
      "text/plain": [
       "array([0.6, 1.8, 0.8, 0.4, 1.6, 1.2, 0.2, 0. , 1.4, 0.6, 1.8])"
      ]
     },
     "execution_count": 64,
     "metadata": {},
     "output_type": "execute_result"
    }
   ],
   "source": [
    "np.divide(my_array,5)"
   ]
  },
  {
   "cell_type": "code",
   "execution_count": 65,
   "id": "cdc5e4c9",
   "metadata": {},
   "outputs": [
    {
     "data": {
      "text/plain": [
       "array([[0.25 , 0.75 , 0.125],\n",
       "       [1.125, 0.625, 0.875],\n",
       "       [0.75 , 0.875, 0.375]])"
      ]
     },
     "execution_count": 65,
     "metadata": {},
     "output_type": "execute_result"
    }
   ],
   "source": [
    "np.divide(my_array2,8)"
   ]
  },
  {
   "cell_type": "code",
   "execution_count": 66,
   "id": "25130704",
   "metadata": {},
   "outputs": [
    {
     "data": {
      "text/plain": [
       "array([[[0.625, 1.   , 0.125],\n",
       "        [1.125, 0.375, 0.875]],\n",
       "\n",
       "       [[0.875, 0.125, 0.75 ],\n",
       "        [1.   , 0.25 , 0.625]],\n",
       "\n",
       "       [[0.125, 1.125, 0.625],\n",
       "        [0.75 , 0.625, 0.5  ]]])"
      ]
     },
     "execution_count": 66,
     "metadata": {},
     "output_type": "execute_result"
    }
   ],
   "source": [
    "np.divide(my_array3,8)"
   ]
  },
  {
   "cell_type": "code",
   "execution_count": 67,
   "id": "61008d4d",
   "metadata": {},
   "outputs": [
    {
     "data": {
      "text/plain": [
       "array([    6561, 43046721,    65536,      256, 16777216,  1679616,\n",
       "              1,        0,  5764801,     6561, 43046721], dtype=int32)"
      ]
     },
     "execution_count": 67,
     "metadata": {},
     "output_type": "execute_result"
    }
   ],
   "source": [
    "np.power(my_array,8)"
   ]
  },
  {
   "cell_type": "code",
   "execution_count": 68,
   "id": "d11362e4",
   "metadata": {},
   "outputs": [
    {
     "data": {
      "text/plain": [
       "array([[    64,  46656,      1],\n",
       "       [531441,  15625, 117649],\n",
       "       [ 46656, 117649,    729]], dtype=int32)"
      ]
     },
     "execution_count": 68,
     "metadata": {},
     "output_type": "execute_result"
    }
   ],
   "source": [
    "np.power(my_array2,6)"
   ]
  },
  {
   "cell_type": "code",
   "execution_count": 69,
   "id": "36b82852",
   "metadata": {},
   "outputs": [
    {
     "data": {
      "text/plain": [
       "array([[  8, 216,   1],\n",
       "       [729, 125, 343],\n",
       "       [216, 343,  27]], dtype=int32)"
      ]
     },
     "execution_count": 69,
     "metadata": {},
     "output_type": "execute_result"
    }
   ],
   "source": [
    "np.power(my_array2,3)"
   ]
  },
  {
   "cell_type": "markdown",
   "id": "b114a8ca",
   "metadata": {},
   "source": [
    "# Vector Math in n-dimension array..."
   ]
  },
  {
   "cell_type": "code",
   "execution_count": 70,
   "id": "cbf16385",
   "metadata": {},
   "outputs": [],
   "source": [
    "array1 = np.array([9,3,4,7,6,1,2])\n",
    "array2 = np.array([7,1,6,4,8,3,1])\n"
   ]
  },
  {
   "cell_type": "code",
   "execution_count": 71,
   "id": "8d45bf36",
   "metadata": {},
   "outputs": [
    {
     "data": {
      "text/plain": [
       "7"
      ]
     },
     "execution_count": 71,
     "metadata": {},
     "output_type": "execute_result"
    }
   ],
   "source": [
    "np.size(array1)\n"
   ]
  },
  {
   "cell_type": "code",
   "execution_count": 72,
   "id": "83c30f8d",
   "metadata": {},
   "outputs": [
    {
     "data": {
      "text/plain": [
       "7"
      ]
     },
     "execution_count": 72,
     "metadata": {},
     "output_type": "execute_result"
    }
   ],
   "source": [
    "np.size(array2)"
   ]
  },
  {
   "cell_type": "code",
   "execution_count": 73,
   "id": "14abc529",
   "metadata": {},
   "outputs": [
    {
     "name": "stdout",
     "output_type": "stream",
     "text": [
      "1\n"
     ]
    }
   ],
   "source": [
    "print(array1.ndim)"
   ]
  },
  {
   "cell_type": "code",
   "execution_count": 74,
   "id": "23484e86",
   "metadata": {},
   "outputs": [
    {
     "name": "stdout",
     "output_type": "stream",
     "text": [
      "1\n"
     ]
    }
   ],
   "source": [
    "print(array1.ndim)"
   ]
  },
  {
   "cell_type": "code",
   "execution_count": 75,
   "id": "33d8aaf4",
   "metadata": {},
   "outputs": [
    {
     "data": {
      "text/plain": [
       "array([16,  4, 10, 11, 14,  4,  3])"
      ]
     },
     "execution_count": 75,
     "metadata": {},
     "output_type": "execute_result"
    }
   ],
   "source": [
    "np.add(array1 , array2)"
   ]
  },
  {
   "cell_type": "code",
   "execution_count": 76,
   "id": "32c02d1e",
   "metadata": {},
   "outputs": [
    {
     "data": {
      "text/plain": [
       "array([ 2,  2, -2,  3, -2, -2,  1])"
      ]
     },
     "execution_count": 76,
     "metadata": {},
     "output_type": "execute_result"
    }
   ],
   "source": [
    "np.subtract(array1 , array2)"
   ]
  },
  {
   "cell_type": "code",
   "execution_count": 77,
   "id": "395cb921",
   "metadata": {},
   "outputs": [
    {
     "data": {
      "text/plain": [
       "array([63,  3, 24, 28, 48,  3,  2])"
      ]
     },
     "execution_count": 77,
     "metadata": {},
     "output_type": "execute_result"
    }
   ],
   "source": [
    "np.multiply(array1 , array2)"
   ]
  },
  {
   "cell_type": "code",
   "execution_count": 78,
   "id": "50c41188",
   "metadata": {
    "scrolled": true
   },
   "outputs": [
    {
     "data": {
      "text/plain": [
       "array([4782969,       3,    4096,    2401, 1679616,       1,       2])"
      ]
     },
     "execution_count": 78,
     "metadata": {},
     "output_type": "execute_result"
    }
   ],
   "source": [
    "np.power(array1,array2)"
   ]
  },
  {
   "cell_type": "code",
   "execution_count": 80,
   "id": "73226af4",
   "metadata": {},
   "outputs": [
    {
     "data": {
      "text/plain": [
       "False"
      ]
     },
     "execution_count": 80,
     "metadata": {},
     "output_type": "execute_result"
    }
   ],
   "source": [
    "np.array_equal(array1,array2)"
   ]
  },
  {
   "cell_type": "code",
   "execution_count": 81,
   "id": "da870848",
   "metadata": {},
   "outputs": [
    {
     "data": {
      "text/plain": [
       "array([3.        , 1.73205081, 2.        , 2.64575131, 2.44948974,\n",
       "       1.        , 1.41421356])"
      ]
     },
     "execution_count": 81,
     "metadata": {},
     "output_type": "execute_result"
    }
   ],
   "source": [
    "np.sqrt(array1)"
   ]
  },
  {
   "cell_type": "code",
   "execution_count": 82,
   "id": "9936f6cb",
   "metadata": {},
   "outputs": [
    {
     "data": {
      "text/plain": [
       "array([2.64575131, 1.        , 2.44948974, 2.        , 2.82842712,\n",
       "       1.73205081, 1.        ])"
      ]
     },
     "execution_count": 82,
     "metadata": {},
     "output_type": "execute_result"
    }
   ],
   "source": [
    "np.sqrt(array2)"
   ]
  },
  {
   "cell_type": "code",
   "execution_count": 83,
   "id": "14eead79",
   "metadata": {},
   "outputs": [
    {
     "data": {
      "text/plain": [
       "array([2.19722458, 1.09861229, 1.38629436, 1.94591015, 1.79175947,\n",
       "       0.        , 0.69314718])"
      ]
     },
     "execution_count": 83,
     "metadata": {},
     "output_type": "execute_result"
    }
   ],
   "source": [
    "np.log(array1)"
   ]
  },
  {
   "cell_type": "code",
   "execution_count": 84,
   "id": "e84f836a",
   "metadata": {},
   "outputs": [
    {
     "data": {
      "text/plain": [
       "array([1.94591015, 0.        , 1.79175947, 1.38629436, 2.07944154,\n",
       "       1.09861229, 0.        ])"
      ]
     },
     "execution_count": 84,
     "metadata": {},
     "output_type": "execute_result"
    }
   ],
   "source": [
    "np.log(array2)"
   ]
  },
  {
   "cell_type": "code",
   "execution_count": 85,
   "id": "8004a556",
   "metadata": {},
   "outputs": [
    {
     "data": {
      "text/plain": [
       "array([ 0.41211849,  0.14112001, -0.7568025 ,  0.6569866 , -0.2794155 ,\n",
       "        0.84147098,  0.90929743])"
      ]
     },
     "execution_count": 85,
     "metadata": {},
     "output_type": "execute_result"
    }
   ],
   "source": [
    "np.sin(array1)"
   ]
  },
  {
   "cell_type": "code",
   "execution_count": 86,
   "id": "5d792c6c",
   "metadata": {},
   "outputs": [
    {
     "data": {
      "text/plain": [
       "array([ 0.6569866 ,  0.84147098, -0.2794155 , -0.7568025 ,  0.98935825,\n",
       "        0.14112001,  0.84147098])"
      ]
     },
     "execution_count": 86,
     "metadata": {},
     "output_type": "execute_result"
    }
   ],
   "source": [
    "np.sin(array2)"
   ]
  },
  {
   "cell_type": "markdown",
   "id": "93929cf4",
   "metadata": {},
   "source": [
    "# Sorting in n- dimension array....\n"
   ]
  },
  {
   "cell_type": "code",
   "execution_count": 87,
   "id": "ef90b1d1",
   "metadata": {},
   "outputs": [
    {
     "data": {
      "text/plain": [
       "array([1, 2, 3, 4, 6, 7, 9])"
      ]
     },
     "execution_count": 87,
     "metadata": {},
     "output_type": "execute_result"
    }
   ],
   "source": [
    "np.sort(array1)"
   ]
  },
  {
   "cell_type": "code",
   "execution_count": 88,
   "id": "8a4bff7c",
   "metadata": {},
   "outputs": [
    {
     "data": {
      "text/plain": [
       "array([1, 1, 3, 4, 6, 7, 8])"
      ]
     },
     "execution_count": 88,
     "metadata": {},
     "output_type": "execute_result"
    }
   ],
   "source": [
    "np.sort(array2)"
   ]
  },
  {
   "cell_type": "code",
   "execution_count": 90,
   "id": "dd79e1d8",
   "metadata": {},
   "outputs": [
    {
     "data": {
      "text/plain": [
       "array([[2, 9, 6],\n",
       "       [6, 5, 7],\n",
       "       [1, 7, 3]])"
      ]
     },
     "execution_count": 90,
     "metadata": {},
     "output_type": "execute_result"
    }
   ],
   "source": [
    "my_array2.T"
   ]
  },
  {
   "cell_type": "code",
   "execution_count": 94,
   "id": "f1a2c344",
   "metadata": {},
   "outputs": [],
   "source": [
    "a=np.insert(my_array,3,9)"
   ]
  },
  {
   "cell_type": "code",
   "execution_count": 95,
   "id": "c33a385f",
   "metadata": {},
   "outputs": [
    {
     "data": {
      "text/plain": [
       "array([3, 9, 4, 2, 8, 6, 1, 0, 7, 3, 9])"
      ]
     },
     "execution_count": 95,
     "metadata": {},
     "output_type": "execute_result"
    }
   ],
   "source": [
    "my_array"
   ]
  },
  {
   "cell_type": "markdown",
   "id": "30c9d324",
   "metadata": {},
   "source": [
    "# Splittiing\n"
   ]
  },
  {
   "cell_type": "code",
   "execution_count": 96,
   "id": "2ca187e7",
   "metadata": {},
   "outputs": [
    {
     "data": {
      "text/plain": [
       "[array([3, 9]),\n",
       " array([4, 9]),\n",
       " array([2, 8]),\n",
       " array([6, 1]),\n",
       " array([0, 7]),\n",
       " array([3, 9])]"
      ]
     },
     "execution_count": 96,
     "metadata": {},
     "output_type": "execute_result"
    }
   ],
   "source": [
    "np.split(a,6)"
   ]
  },
  {
   "cell_type": "markdown",
   "id": "41810ab1",
   "metadata": {},
   "source": [
    "# Random n-dimension array..."
   ]
  },
  {
   "cell_type": "code",
   "execution_count": 97,
   "id": "6e6875f1",
   "metadata": {},
   "outputs": [],
   "source": [
    "from numpy import random"
   ]
  },
  {
   "cell_type": "code",
   "execution_count": 98,
   "id": "00cdc50f",
   "metadata": {},
   "outputs": [],
   "source": [
    "x = random.rand(5,9)"
   ]
  },
  {
   "cell_type": "code",
   "execution_count": 99,
   "id": "b93bb270",
   "metadata": {},
   "outputs": [
    {
     "name": "stdout",
     "output_type": "stream",
     "text": [
      "[[0.65035338 0.96952438 0.63931841 0.83232809 0.65441013 0.94036902\n",
      "  0.09269269 0.76852491 0.9250291 ]\n",
      " [0.8072471  0.74309256 0.32340864 0.39696822 0.03844641 0.349183\n",
      "  0.93735816 0.37423539 0.03047568]\n",
      " [0.62788243 0.77064115 0.98609122 0.1935995  0.58241176 0.21526014\n",
      "  0.85129794 0.8680295  0.19979969]\n",
      " [0.55938642 0.35495848 0.57275001 0.80282517 0.17132052 0.82248465\n",
      "  0.80509476 0.43562971 0.80384387]\n",
      " [0.85562577 0.36431251 0.20208921 0.85412119 0.35051813 0.58501809\n",
      "  0.51747667 0.84843249 0.61909732]]\n"
     ]
    }
   ],
   "source": [
    "print(x)"
   ]
  },
  {
   "cell_type": "code",
   "execution_count": 100,
   "id": "3fb24dc8",
   "metadata": {},
   "outputs": [],
   "source": [
    "y = random.rand(3)"
   ]
  },
  {
   "cell_type": "code",
   "execution_count": 101,
   "id": "f1134d93",
   "metadata": {},
   "outputs": [
    {
     "name": "stdout",
     "output_type": "stream",
     "text": [
      "[0.54852752 0.02679508 0.00278256]\n"
     ]
    }
   ],
   "source": [
    "print(y)"
   ]
  },
  {
   "cell_type": "code",
   "execution_count": 107,
   "id": "284c032b",
   "metadata": {},
   "outputs": [],
   "source": [
    "z = random.rand(9,1)"
   ]
  },
  {
   "cell_type": "code",
   "execution_count": 108,
   "id": "4c5410bd",
   "metadata": {},
   "outputs": [
    {
     "name": "stdout",
     "output_type": "stream",
     "text": [
      "[[0.11432826]\n",
      " [0.41596817]\n",
      " [0.68566673]\n",
      " [0.50492901]\n",
      " [0.52359405]\n",
      " [0.63284771]\n",
      " [0.23856172]\n",
      " [0.91320376]\n",
      " [0.50443756]]\n"
     ]
    }
   ],
   "source": [
    "print(z)"
   ]
  },
  {
   "cell_type": "code",
   "execution_count": null,
   "id": "28e76586",
   "metadata": {},
   "outputs": [],
   "source": []
  }
 ],
 "metadata": {
  "kernelspec": {
   "display_name": "Python 3 (ipykernel)",
   "language": "python",
   "name": "python3"
  },
  "language_info": {
   "codemirror_mode": {
    "name": "ipython",
    "version": 3
   },
   "file_extension": ".py",
   "mimetype": "text/x-python",
   "name": "python",
   "nbconvert_exporter": "python",
   "pygments_lexer": "ipython3",
   "version": "3.10.7"
  }
 },
 "nbformat": 4,
 "nbformat_minor": 5
}
