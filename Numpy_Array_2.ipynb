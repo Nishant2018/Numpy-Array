{
 "cells": [
  {
   "cell_type": "code",
   "execution_count": 1,
   "id": "eb2f0071",
   "metadata": {},
   "outputs": [],
   "source": [
    "import numpy as np"
   ]
  },
  {
   "cell_type": "code",
   "execution_count": 2,
   "id": "f789bcd2",
   "metadata": {},
   "outputs": [
    {
     "data": {
      "text/plain": [
       "array([ 2, 56,  8,  6,  1, 84,  1, 48,  5, 99,  9])"
      ]
     },
     "execution_count": 2,
     "metadata": {},
     "output_type": "execute_result"
    }
   ],
   "source": [
    "My_Array = np.array([2,56,8,6,1,84,1,48,5,99,9,])\n",
    "My_Array"
   ]
  },
  {
   "cell_type": "code",
   "execution_count": 3,
   "id": "6d30dc8d",
   "metadata": {},
   "outputs": [
    {
     "name": "stdout",
     "output_type": "stream",
     "text": [
      "<class 'numpy.ndarray'>\n"
     ]
    }
   ],
   "source": [
    "print(type(My_Array))"
   ]
  },
  {
   "cell_type": "code",
   "execution_count": 4,
   "id": "908246f1",
   "metadata": {},
   "outputs": [],
   "source": [
    "import statistics as st"
   ]
  },
  {
   "cell_type": "code",
   "execution_count": 5,
   "id": "1bc15602",
   "metadata": {},
   "outputs": [
    {
     "data": {
      "text/plain": [
       "29"
      ]
     },
     "execution_count": 5,
     "metadata": {},
     "output_type": "execute_result"
    }
   ],
   "source": [
    "st.mean(My_Array)"
   ]
  },
  {
   "cell_type": "code",
   "execution_count": 6,
   "id": "bad3d2fe",
   "metadata": {},
   "outputs": [
    {
     "data": {
      "text/plain": [
       "1"
      ]
     },
     "execution_count": 6,
     "metadata": {},
     "output_type": "execute_result"
    }
   ],
   "source": [
    "st.mode(My_Array)"
   ]
  },
  {
   "cell_type": "markdown",
   "id": "ec81c640",
   "metadata": {},
   "source": [
    "# 2D Array"
   ]
  },
  {
   "cell_type": "code",
   "execution_count": 7,
   "id": "1d2e4acc",
   "metadata": {},
   "outputs": [],
   "source": [
    "My_Array_2 = np.array([[2,9,4],[3,7,1],[7,2,8]])\n"
   ]
  },
  {
   "cell_type": "code",
   "execution_count": 8,
   "id": "a5e42563",
   "metadata": {},
   "outputs": [
    {
     "name": "stdout",
     "output_type": "stream",
     "text": [
      "[[2 9 4]\n",
      " [3 7 1]\n",
      " [7 2 8]]\n"
     ]
    }
   ],
   "source": [
    "print(My_Array_2)"
   ]
  },
  {
   "cell_type": "markdown",
   "id": "89d95309",
   "metadata": {},
   "source": [
    "# 3D Array"
   ]
  },
  {
   "cell_type": "code",
   "execution_count": 9,
   "id": "0b910766",
   "metadata": {},
   "outputs": [
    {
     "name": "stdout",
     "output_type": "stream",
     "text": [
      "[[[2 8 3]\n",
      "  [3 3 8]]\n",
      "\n",
      " [[1 9 4]\n",
      "  [7 9 8]]]\n"
     ]
    }
   ],
   "source": [
    "My_Array_3 = np.array([[[2,8,3],[3,3,8]],[[1,9,4],[7,9,8]]])\n",
    "print(My_Array_3)"
   ]
  },
  {
   "cell_type": "code",
   "execution_count": 10,
   "id": "47ac83a4",
   "metadata": {},
   "outputs": [
    {
     "name": "stdout",
     "output_type": "stream",
     "text": [
      "1\n",
      "2\n",
      "3\n"
     ]
    }
   ],
   "source": [
    "print(My_Array.ndim)\n",
    "print(My_Array_2.ndim)\n",
    "print(My_Array_3.ndim)"
   ]
  },
  {
   "cell_type": "markdown",
   "id": "59ea701e",
   "metadata": {},
   "source": [
    "# Automatic n- dimension array creation"
   ]
  },
  {
   "cell_type": "code",
   "execution_count": 11,
   "id": "c2d4f145",
   "metadata": {},
   "outputs": [
    {
     "name": "stdout",
     "output_type": "stream",
     "text": [
      "[[[[[2 9 4 8 3]]]]]\n"
     ]
    }
   ],
   "source": [
    "array = np.array([2,9,4,8,3],ndmin=5)\n",
    "print(array)"
   ]
  },
  {
   "cell_type": "code",
   "execution_count": 12,
   "id": "f3698095",
   "metadata": {},
   "outputs": [
    {
     "name": "stdout",
     "output_type": "stream",
     "text": [
      "[[[[[[[[9 7 3 1 5 3]]]]]]]]\n"
     ]
    }
   ],
   "source": [
    "array = np.array([9,7,3,1,5,3],ndmin=8)\n",
    "print(array)"
   ]
  },
  {
   "cell_type": "markdown",
   "id": "b0fe5894",
   "metadata": {},
   "source": [
    "# Ascess element in the n-dimension array...\n"
   ]
  },
  {
   "cell_type": "code",
   "execution_count": 13,
   "id": "6800ad08",
   "metadata": {},
   "outputs": [
    {
     "name": "stdout",
     "output_type": "stream",
     "text": [
      "6\n"
     ]
    }
   ],
   "source": [
    "print(My_Array[3])"
   ]
  },
  {
   "cell_type": "code",
   "execution_count": 14,
   "id": "0d7622de",
   "metadata": {
    "scrolled": true
   },
   "outputs": [
    {
     "name": "stdout",
     "output_type": "stream",
     "text": [
      "[ 2 56  8  8  1 84  1 48  5 99  9]\n"
     ]
    }
   ],
   "source": [
    "My_Array[3]=8\n",
    "print(My_Array)"
   ]
  },
  {
   "cell_type": "markdown",
   "id": "c6b3b7bb",
   "metadata": {},
   "source": [
    "# Use Looping in n-dimension array"
   ]
  },
  {
   "cell_type": "code",
   "execution_count": 15,
   "id": "e19d258b",
   "metadata": {},
   "outputs": [
    {
     "name": "stdout",
     "output_type": "stream",
     "text": [
      "2\n",
      "56\n",
      "8\n",
      "8\n",
      "1\n",
      "84\n",
      "1\n",
      "48\n",
      "5\n",
      "99\n",
      "9\n"
     ]
    }
   ],
   "source": [
    "for x in My_Array:\n",
    "    print(x)"
   ]
  },
  {
   "cell_type": "code",
   "execution_count": 16,
   "id": "69ae054c",
   "metadata": {},
   "outputs": [
    {
     "name": "stdout",
     "output_type": "stream",
     "text": [
      "[2 9 4]\n",
      "[3 7 1]\n",
      "[7 2 8]\n"
     ]
    }
   ],
   "source": [
    "for x in My_Array_2:\n",
    "    print(x)"
   ]
  },
  {
   "cell_type": "code",
   "execution_count": 17,
   "id": "8bf3c069",
   "metadata": {},
   "outputs": [
    {
     "name": "stdout",
     "output_type": "stream",
     "text": [
      "[[2 8 3]\n",
      " [3 3 8]]\n",
      "[[1 9 4]\n",
      " [7 9 8]]\n"
     ]
    }
   ],
   "source": [
    "for x in My_Array_3:\n",
    "    print(x)"
   ]
  },
  {
   "cell_type": "code",
   "execution_count": 18,
   "id": "963e2879",
   "metadata": {},
   "outputs": [
    {
     "name": "stdout",
     "output_type": "stream",
     "text": [
      "2\n",
      "9\n",
      "4\n",
      "3\n",
      "7\n",
      "1\n",
      "7\n",
      "2\n",
      "8\n"
     ]
    }
   ],
   "source": [
    "for x in My_Array_2:\n",
    "    for y in x:\n",
    "        print(y)"
   ]
  },
  {
   "cell_type": "code",
   "execution_count": 19,
   "id": "cb68598a",
   "metadata": {},
   "outputs": [
    {
     "name": "stdout",
     "output_type": "stream",
     "text": [
      "2\n",
      "8\n",
      "3\n",
      "3\n",
      "3\n",
      "8\n",
      "1\n",
      "9\n",
      "4\n",
      "7\n",
      "9\n",
      "8\n"
     ]
    }
   ],
   "source": [
    "for x in My_Array_3:\n",
    "    for y in x:\n",
    "        for z in y:\n",
    "            print(z)"
   ]
  },
  {
   "cell_type": "markdown",
   "id": "261eaa05",
   "metadata": {},
   "source": [
    "# Scalar Math in array...\n"
   ]
  },
  {
   "cell_type": "code",
   "execution_count": 20,
   "id": "cd38c26f",
   "metadata": {},
   "outputs": [
    {
     "data": {
      "text/plain": [
       "array([  3,  57,   9,   9,   2,  85,   2,  49,   6, 100,  10])"
      ]
     },
     "execution_count": 20,
     "metadata": {},
     "output_type": "execute_result"
    }
   ],
   "source": [
    "np.add(My_Array,1)\n"
   ]
  },
  {
   "cell_type": "code",
   "execution_count": 21,
   "id": "18e69c18",
   "metadata": {},
   "outputs": [
    {
     "data": {
      "text/plain": [
       "array([ 0, 54,  6,  6, -1, 82, -1, 46,  3, 97,  7])"
      ]
     },
     "execution_count": 21,
     "metadata": {},
     "output_type": "execute_result"
    }
   ],
   "source": [
    "np.subtract(My_Array,2)"
   ]
  },
  {
   "cell_type": "code",
   "execution_count": 22,
   "id": "6b17f5fd",
   "metadata": {},
   "outputs": [
    {
     "name": "stdout",
     "output_type": "stream",
     "text": [
      "[ 2 56  8  8  1 84  1 48  5 99  9]\n"
     ]
    }
   ],
   "source": [
    "print(My_Array)"
   ]
  },
  {
   "cell_type": "code",
   "execution_count": 23,
   "id": "a6d9b854",
   "metadata": {},
   "outputs": [
    {
     "data": {
      "text/plain": [
       "array([[ 4, 11,  6],\n",
       "       [ 5,  9,  3],\n",
       "       [ 9,  4, 10]])"
      ]
     },
     "execution_count": 23,
     "metadata": {},
     "output_type": "execute_result"
    }
   ],
   "source": [
    "np.add(My_Array_2,2)"
   ]
  },
  {
   "cell_type": "code",
   "execution_count": 24,
   "id": "8527cf8f",
   "metadata": {},
   "outputs": [
    {
     "data": {
      "text/plain": [
       "array([[ 0,  7,  2],\n",
       "       [ 1,  5, -1],\n",
       "       [ 5,  0,  6]])"
      ]
     },
     "execution_count": 24,
     "metadata": {},
     "output_type": "execute_result"
    }
   ],
   "source": [
    "np.subtract(My_Array_2,2)"
   ]
  },
  {
   "cell_type": "code",
   "execution_count": 25,
   "id": "3accfaf1",
   "metadata": {},
   "outputs": [
    {
     "data": {
      "text/plain": [
       "array([  6, 168,  24,  24,   3, 252,   3, 144,  15, 297,  27])"
      ]
     },
     "execution_count": 25,
     "metadata": {},
     "output_type": "execute_result"
    }
   ],
   "source": [
    "np.multiply(My_Array,3)"
   ]
  },
  {
   "cell_type": "code",
   "execution_count": 26,
   "id": "93172e7c",
   "metadata": {},
   "outputs": [
    {
     "data": {
      "text/plain": [
       "array([[12, 54, 24],\n",
       "       [18, 42,  6],\n",
       "       [42, 12, 48]])"
      ]
     },
     "execution_count": 26,
     "metadata": {},
     "output_type": "execute_result"
    }
   ],
   "source": [
    "np.multiply(My_Array_2,6)"
   ]
  },
  {
   "cell_type": "code",
   "execution_count": 27,
   "id": "06534a5f",
   "metadata": {},
   "outputs": [
    {
     "data": {
      "text/plain": [
       "array([ 0.66666667, 18.66666667,  2.66666667,  2.66666667,  0.33333333,\n",
       "       28.        ,  0.33333333, 16.        ,  1.66666667, 33.        ,\n",
       "        3.        ])"
      ]
     },
     "execution_count": 27,
     "metadata": {},
     "output_type": "execute_result"
    }
   ],
   "source": [
    "np.divide(My_Array,3)"
   ]
  },
  {
   "cell_type": "code",
   "execution_count": 28,
   "id": "eebb2b8a",
   "metadata": {},
   "outputs": [
    {
     "data": {
      "text/plain": [
       "array([[0.66666667, 3.        , 1.33333333],\n",
       "       [1.        , 2.33333333, 0.33333333],\n",
       "       [2.33333333, 0.66666667, 2.66666667]])"
      ]
     },
     "execution_count": 28,
     "metadata": {},
     "output_type": "execute_result"
    }
   ],
   "source": [
    "np.divide(My_Array_2,3)"
   ]
  },
  {
   "cell_type": "code",
   "execution_count": 29,
   "id": "8f9ab9ef",
   "metadata": {},
   "outputs": [
    {
     "data": {
      "text/plain": [
       "array([      16,  9834496,     4096,     4096,        1, 49787136,\n",
       "              1,  5308416,      625, 96059601,     6561], dtype=int32)"
      ]
     },
     "execution_count": 29,
     "metadata": {},
     "output_type": "execute_result"
    }
   ],
   "source": [
    "np.power(My_Array,4)"
   ]
  },
  {
   "cell_type": "code",
   "execution_count": 30,
   "id": "663b17e2",
   "metadata": {},
   "outputs": [
    {
     "data": {
      "text/plain": [
       "array([[  8, 729,  64],\n",
       "       [ 27, 343,   1],\n",
       "       [343,   8, 512]], dtype=int32)"
      ]
     },
     "execution_count": 30,
     "metadata": {},
     "output_type": "execute_result"
    }
   ],
   "source": [
    "np.power(My_Array_2,3)"
   ]
  },
  {
   "cell_type": "markdown",
   "id": "47590617",
   "metadata": {},
   "source": [
    "# Vector Math in n-dimension array.."
   ]
  },
  {
   "cell_type": "code",
   "execution_count": 31,
   "id": "8a52e7ba",
   "metadata": {},
   "outputs": [
    {
     "data": {
      "text/plain": [
       "1"
      ]
     },
     "execution_count": 31,
     "metadata": {},
     "output_type": "execute_result"
    }
   ],
   "source": [
    "arr1 = np.array([3,8,1,9,6,7,2,6,4,9,3,5])\n",
    "np.ndim(arr1)"
   ]
  },
  {
   "cell_type": "code",
   "execution_count": 32,
   "id": "566a71fc",
   "metadata": {},
   "outputs": [
    {
     "data": {
      "text/plain": [
       "12"
      ]
     },
     "execution_count": 32,
     "metadata": {},
     "output_type": "execute_result"
    }
   ],
   "source": [
    "arr1.size"
   ]
  },
  {
   "cell_type": "code",
   "execution_count": 33,
   "id": "544da0dd",
   "metadata": {},
   "outputs": [
    {
     "data": {
      "text/plain": [
       "12"
      ]
     },
     "execution_count": 33,
     "metadata": {},
     "output_type": "execute_result"
    }
   ],
   "source": [
    "arr2 = np.array([5,9,1,2,7,3,6,1,9,2,4,8])\n",
    "np.ndim(arr2)\n",
    "arr2.size"
   ]
  },
  {
   "cell_type": "code",
   "execution_count": 34,
   "id": "63774e32",
   "metadata": {},
   "outputs": [
    {
     "data": {
      "text/plain": [
       "array([ 8, 17,  2, 11, 13, 10,  8,  7, 13, 11,  7, 13])"
      ]
     },
     "execution_count": 34,
     "metadata": {},
     "output_type": "execute_result"
    }
   ],
   "source": [
    "np.add(arr1,arr2)"
   ]
  },
  {
   "cell_type": "code",
   "execution_count": 35,
   "id": "0e345e4c",
   "metadata": {},
   "outputs": [
    {
     "data": {
      "text/plain": [
       "array([-2, -1,  0,  7, -1,  4, -4,  5, -5,  7, -1, -3])"
      ]
     },
     "execution_count": 35,
     "metadata": {},
     "output_type": "execute_result"
    }
   ],
   "source": [
    "np.subtract(arr1,arr2)"
   ]
  },
  {
   "cell_type": "code",
   "execution_count": 36,
   "id": "1e5b06fc",
   "metadata": {},
   "outputs": [
    {
     "data": {
      "text/plain": [
       "array([ 2,  1,  0, -7,  1, -4,  4, -5,  5, -7,  1,  3])"
      ]
     },
     "execution_count": 36,
     "metadata": {},
     "output_type": "execute_result"
    }
   ],
   "source": [
    "np.subtract(arr2,arr1)"
   ]
  },
  {
   "cell_type": "code",
   "execution_count": 37,
   "id": "74566046",
   "metadata": {},
   "outputs": [
    {
     "data": {
      "text/plain": [
       "array([15, 72,  1, 18, 42, 21, 12,  6, 36, 18, 12, 40])"
      ]
     },
     "execution_count": 37,
     "metadata": {},
     "output_type": "execute_result"
    }
   ],
   "source": [
    "np.multiply(arr1,arr2)"
   ]
  },
  {
   "cell_type": "code",
   "execution_count": 38,
   "id": "43b60e94",
   "metadata": {},
   "outputs": [
    {
     "data": {
      "text/plain": [
       "array([      243, 134217728,         1,        81,    279936,       343,\n",
       "              64,         6,    262144,        81,        81,    390625])"
      ]
     },
     "execution_count": 38,
     "metadata": {},
     "output_type": "execute_result"
    }
   ],
   "source": [
    "np.power(arr1,arr2)"
   ]
  },
  {
   "cell_type": "code",
   "execution_count": 39,
   "id": "1693e963",
   "metadata": {},
   "outputs": [
    {
     "data": {
      "text/plain": [
       "False"
      ]
     },
     "execution_count": 39,
     "metadata": {},
     "output_type": "execute_result"
    }
   ],
   "source": [
    "np.array_equal(arr1,arr2)"
   ]
  },
  {
   "cell_type": "code",
   "execution_count": 40,
   "id": "0d7a577f",
   "metadata": {},
   "outputs": [
    {
     "data": {
      "text/plain": [
       "array([1.73205081, 2.82842712, 1.        , 3.        , 2.44948974,\n",
       "       2.64575131, 1.41421356, 2.44948974, 2.        , 3.        ,\n",
       "       1.73205081, 2.23606798])"
      ]
     },
     "execution_count": 40,
     "metadata": {},
     "output_type": "execute_result"
    }
   ],
   "source": [
    "np.sqrt(arr1)"
   ]
  },
  {
   "cell_type": "code",
   "execution_count": 41,
   "id": "a50d2486",
   "metadata": {},
   "outputs": [
    {
     "data": {
      "text/plain": [
       "array([2.23606798, 3.        , 1.        , 1.41421356, 2.64575131,\n",
       "       1.73205081, 2.44948974, 1.        , 3.        , 1.41421356,\n",
       "       2.        , 2.82842712])"
      ]
     },
     "execution_count": 41,
     "metadata": {},
     "output_type": "execute_result"
    }
   ],
   "source": [
    "np.sqrt(arr2)"
   ]
  },
  {
   "cell_type": "code",
   "execution_count": 42,
   "id": "86f1c810",
   "metadata": {},
   "outputs": [
    {
     "data": {
      "text/plain": [
       "array([ 0.14112001,  0.98935825,  0.84147098,  0.41211849, -0.2794155 ,\n",
       "        0.6569866 ,  0.90929743, -0.2794155 , -0.7568025 ,  0.41211849,\n",
       "        0.14112001, -0.95892427])"
      ]
     },
     "execution_count": 42,
     "metadata": {},
     "output_type": "execute_result"
    }
   ],
   "source": [
    "np.sin(arr1)"
   ]
  },
  {
   "cell_type": "code",
   "execution_count": 43,
   "id": "0493b231",
   "metadata": {},
   "outputs": [
    {
     "data": {
      "text/plain": [
       "array([-0.95892427,  0.41211849,  0.84147098,  0.90929743,  0.6569866 ,\n",
       "        0.14112001, -0.2794155 ,  0.84147098,  0.41211849,  0.90929743,\n",
       "       -0.7568025 ,  0.98935825])"
      ]
     },
     "execution_count": 43,
     "metadata": {},
     "output_type": "execute_result"
    }
   ],
   "source": [
    "np.sin(arr2)"
   ]
  },
  {
   "cell_type": "code",
   "execution_count": 44,
   "id": "1eef4a0e",
   "metadata": {},
   "outputs": [
    {
     "data": {
      "text/plain": [
       "array([1.09861229, 2.07944154, 0.        , 2.19722458, 1.79175947,\n",
       "       1.94591015, 0.69314718, 1.79175947, 1.38629436, 2.19722458,\n",
       "       1.09861229, 1.60943791])"
      ]
     },
     "execution_count": 44,
     "metadata": {},
     "output_type": "execute_result"
    }
   ],
   "source": [
    "np.log(arr1)"
   ]
  },
  {
   "cell_type": "code",
   "execution_count": 45,
   "id": "b6e634f0",
   "metadata": {},
   "outputs": [
    {
     "data": {
      "text/plain": [
       "array([1.60943791, 2.19722458, 0.        , 0.69314718, 1.94591015,\n",
       "       1.09861229, 1.79175947, 0.        , 2.19722458, 0.69314718,\n",
       "       1.38629436, 2.07944154])"
      ]
     },
     "execution_count": 45,
     "metadata": {},
     "output_type": "execute_result"
    }
   ],
   "source": [
    "np.log(arr2)"
   ]
  },
  {
   "cell_type": "markdown",
   "id": "2ae8f2e2",
   "metadata": {},
   "source": [
    "# Statistics in n-dimesion array.....\n"
   ]
  },
  {
   "cell_type": "code",
   "execution_count": 46,
   "id": "872b03cb",
   "metadata": {},
   "outputs": [
    {
     "data": {
      "text/plain": [
       "29.181818181818183"
      ]
     },
     "execution_count": 46,
     "metadata": {},
     "output_type": "execute_result"
    }
   ],
   "source": [
    "np.mean(My_Array)"
   ]
  },
  {
   "cell_type": "code",
   "execution_count": 47,
   "id": "7ad319ef",
   "metadata": {},
   "outputs": [
    {
     "data": {
      "text/plain": [
       "array([5.        , 3.66666667, 5.66666667])"
      ]
     },
     "execution_count": 47,
     "metadata": {},
     "output_type": "execute_result"
    }
   ],
   "source": [
    "np.mean(My_Array_2,axis=1)"
   ]
  },
  {
   "cell_type": "code",
   "execution_count": 48,
   "id": "91127cf2",
   "metadata": {},
   "outputs": [
    {
     "data": {
      "text/plain": [
       "array([4.        , 6.        , 4.33333333])"
      ]
     },
     "execution_count": 48,
     "metadata": {},
     "output_type": "execute_result"
    }
   ],
   "source": [
    "np.mean(My_Array_2,axis=0)"
   ]
  },
  {
   "cell_type": "code",
   "execution_count": 49,
   "id": "2be8b246",
   "metadata": {},
   "outputs": [
    {
     "data": {
      "text/plain": [
       "321"
      ]
     },
     "execution_count": 49,
     "metadata": {},
     "output_type": "execute_result"
    }
   ],
   "source": [
    "np.sum(My_Array)"
   ]
  },
  {
   "cell_type": "code",
   "execution_count": 50,
   "id": "f41f53fe",
   "metadata": {},
   "outputs": [
    {
     "data": {
      "text/plain": [
       "43"
      ]
     },
     "execution_count": 50,
     "metadata": {},
     "output_type": "execute_result"
    }
   ],
   "source": [
    "np.sum(My_Array_2)"
   ]
  },
  {
   "cell_type": "code",
   "execution_count": 51,
   "id": "d32c2faf",
   "metadata": {},
   "outputs": [
    {
     "data": {
      "text/plain": [
       "1"
      ]
     },
     "execution_count": 51,
     "metadata": {},
     "output_type": "execute_result"
    }
   ],
   "source": [
    "np.min(My_Array)"
   ]
  },
  {
   "cell_type": "code",
   "execution_count": 52,
   "id": "2092c472",
   "metadata": {},
   "outputs": [
    {
     "data": {
      "text/plain": [
       "1"
      ]
     },
     "execution_count": 52,
     "metadata": {},
     "output_type": "execute_result"
    }
   ],
   "source": [
    "np.min(My_Array_2)"
   ]
  },
  {
   "cell_type": "code",
   "execution_count": 53,
   "id": "7d808371",
   "metadata": {},
   "outputs": [
    {
     "data": {
      "text/plain": [
       "1197.2396694214874"
      ]
     },
     "execution_count": 53,
     "metadata": {},
     "output_type": "execute_result"
    }
   ],
   "source": [
    "np.var(My_Array)"
   ]
  },
  {
   "cell_type": "code",
   "execution_count": 54,
   "id": "c69b1449",
   "metadata": {},
   "outputs": [
    {
     "data": {
      "text/plain": [
       "34.60115127306442"
      ]
     },
     "execution_count": 54,
     "metadata": {},
     "output_type": "execute_result"
    }
   ],
   "source": [
    "np.std(My_Array)"
   ]
  },
  {
   "cell_type": "code",
   "execution_count": 55,
   "id": "d7562b0f",
   "metadata": {},
   "outputs": [
    {
     "data": {
      "text/plain": [
       "array([2.94392029, 2.49443826, 2.62466929])"
      ]
     },
     "execution_count": 55,
     "metadata": {},
     "output_type": "execute_result"
    }
   ],
   "source": [
    "np.std(My_Array_2,1)"
   ]
  },
  {
   "cell_type": "code",
   "execution_count": 56,
   "id": "8ebacb4c",
   "metadata": {},
   "outputs": [
    {
     "data": {
      "text/plain": [
       "array([2.1602469 , 2.94392029, 2.86744176])"
      ]
     },
     "execution_count": 56,
     "metadata": {},
     "output_type": "execute_result"
    }
   ],
   "source": [
    "np.std(My_Array_2,axis=0)"
   ]
  },
  {
   "cell_type": "code",
   "execution_count": 57,
   "id": "d3045100",
   "metadata": {},
   "outputs": [
    {
     "data": {
      "text/plain": [
       "1.0"
      ]
     },
     "execution_count": 57,
     "metadata": {},
     "output_type": "execute_result"
    }
   ],
   "source": [
    "np.corrcoef(My_Array)"
   ]
  },
  {
   "cell_type": "code",
   "execution_count": 58,
   "id": "f0d7ab3d",
   "metadata": {},
   "outputs": [
    {
     "data": {
      "text/plain": [
       "array([[ 1.        ,  0.81705717, -0.90593576],\n",
       "       [ 0.81705717,  1.        , -0.98432414],\n",
       "       [-0.90593576, -0.98432414,  1.        ]])"
      ]
     },
     "execution_count": 58,
     "metadata": {},
     "output_type": "execute_result"
    }
   ],
   "source": [
    "np.corrcoef(My_Array_2)"
   ]
  },
  {
   "cell_type": "markdown",
   "id": "463ba608",
   "metadata": {},
   "source": [
    "# sorting in n-dimension array\n"
   ]
  },
  {
   "cell_type": "code",
   "execution_count": 59,
   "id": "7658b970",
   "metadata": {},
   "outputs": [
    {
     "data": {
      "text/plain": [
       "array([ 1,  1,  2,  5,  8,  8,  9, 48, 56, 84, 99])"
      ]
     },
     "execution_count": 59,
     "metadata": {},
     "output_type": "execute_result"
    }
   ],
   "source": [
    "np.sort(My_Array)"
   ]
  },
  {
   "cell_type": "code",
   "execution_count": 60,
   "id": "63163c95",
   "metadata": {
    "scrolled": true
   },
   "outputs": [
    {
     "data": {
      "text/plain": [
       "array([[2, 3, 7],\n",
       "       [9, 7, 2],\n",
       "       [4, 1, 8]])"
      ]
     },
     "execution_count": 60,
     "metadata": {},
     "output_type": "execute_result"
    }
   ],
   "source": [
    "My_Array_2.T"
   ]
  },
  {
   "cell_type": "code",
   "execution_count": 61,
   "id": "de5d483e",
   "metadata": {},
   "outputs": [
    {
     "data": {
      "text/plain": [
       "array([ 2, 56,  8,  3,  8,  1, 84,  1, 48,  5, 99,  9])"
      ]
     },
     "execution_count": 61,
     "metadata": {},
     "output_type": "execute_result"
    }
   ],
   "source": [
    "np.insert(My_Array,3,3)"
   ]
  },
  {
   "cell_type": "code",
   "execution_count": 62,
   "id": "702fa7ad",
   "metadata": {},
   "outputs": [
    {
     "name": "stdout",
     "output_type": "stream",
     "text": [
      "[ 2 56  8  8  1 84  1 48  5 99  9]\n"
     ]
    }
   ],
   "source": [
    "print(My_Array)"
   ]
  },
  {
   "cell_type": "code",
   "execution_count": 63,
   "id": "68be34ad",
   "metadata": {},
   "outputs": [
    {
     "data": {
      "text/plain": [
       "array([ 2, 56,  8,  8,  1, 84,  1, 48,  5, 99,  9,  3])"
      ]
     },
     "execution_count": 63,
     "metadata": {},
     "output_type": "execute_result"
    }
   ],
   "source": [
    "np.append(My_Array,3)"
   ]
  },
  {
   "cell_type": "code",
   "execution_count": 64,
   "id": "059d3457",
   "metadata": {},
   "outputs": [
    {
     "name": "stdout",
     "output_type": "stream",
     "text": [
      "[ 2 56  8  8  1 84  1 48  5 99  9]\n"
     ]
    }
   ],
   "source": [
    "print(My_Array)"
   ]
  },
  {
   "cell_type": "markdown",
   "id": "2e7a8298",
   "metadata": {},
   "source": [
    "# Splitting"
   ]
  },
  {
   "cell_type": "code",
   "execution_count": 66,
   "id": "ab72040a",
   "metadata": {},
   "outputs": [
    {
     "data": {
      "text/plain": [
       "[array([3, 8, 1, 9]), array([6, 7, 2, 6]), array([4, 9, 3, 5])]"
      ]
     },
     "execution_count": 66,
     "metadata": {},
     "output_type": "execute_result"
    }
   ],
   "source": [
    "np.split(arr1,3)"
   ]
  },
  {
   "cell_type": "code",
   "execution_count": 67,
   "id": "1b70a60c",
   "metadata": {},
   "outputs": [
    {
     "data": {
      "text/plain": [
       "[array([3, 8, 1]), array([9, 6, 7]), array([2, 6, 4]), array([9, 3, 5])]"
      ]
     },
     "execution_count": 67,
     "metadata": {},
     "output_type": "execute_result"
    }
   ],
   "source": [
    "np.split(arr1,4)"
   ]
  },
  {
   "cell_type": "markdown",
   "id": "2da69a2b",
   "metadata": {},
   "source": [
    "# Searching in an array....."
   ]
  },
  {
   "cell_type": "code",
   "execution_count": 68,
   "id": "8ceef740",
   "metadata": {},
   "outputs": [
    {
     "data": {
      "text/plain": [
       "(array([7], dtype=int64),)"
      ]
     },
     "execution_count": 68,
     "metadata": {},
     "output_type": "execute_result"
    }
   ],
   "source": [
    "np.where(My_Array==48)"
   ]
  },
  {
   "cell_type": "code",
   "execution_count": 69,
   "id": "9168d418",
   "metadata": {},
   "outputs": [
    {
     "data": {
      "text/plain": [
       "(array([4, 6], dtype=int64),)"
      ]
     },
     "execution_count": 69,
     "metadata": {},
     "output_type": "execute_result"
    }
   ],
   "source": [
    "np.where(My_Array==1)"
   ]
  },
  {
   "cell_type": "markdown",
   "id": "c7624c7a",
   "metadata": {},
   "source": [
    "# Random Array....."
   ]
  },
  {
   "cell_type": "code",
   "execution_count": 70,
   "id": "a16a2406",
   "metadata": {},
   "outputs": [],
   "source": [
    "from numpy import random"
   ]
  },
  {
   "cell_type": "code",
   "execution_count": 71,
   "id": "691c92f4",
   "metadata": {},
   "outputs": [],
   "source": [
    "x= random.randint(200)"
   ]
  },
  {
   "cell_type": "code",
   "execution_count": 72,
   "id": "a33a7437",
   "metadata": {},
   "outputs": [
    {
     "name": "stdout",
     "output_type": "stream",
     "text": [
      "188\n"
     ]
    }
   ],
   "source": [
    "print(x)"
   ]
  },
  {
   "cell_type": "code",
   "execution_count": 73,
   "id": "43644888",
   "metadata": {},
   "outputs": [
    {
     "name": "stdout",
     "output_type": "stream",
     "text": [
      "188\n"
     ]
    }
   ],
   "source": [
    "print(x)"
   ]
  },
  {
   "cell_type": "code",
   "execution_count": 74,
   "id": "34a71b2d",
   "metadata": {},
   "outputs": [
    {
     "name": "stdout",
     "output_type": "stream",
     "text": [
      "16\n"
     ]
    }
   ],
   "source": [
    "x= random.randint(200)\n",
    "print(x)"
   ]
  },
  {
   "cell_type": "code",
   "execution_count": 75,
   "id": "49e9b370",
   "metadata": {},
   "outputs": [],
   "source": [
    "y = random.randint(100,size=(13))"
   ]
  },
  {
   "cell_type": "code",
   "execution_count": 76,
   "id": "cf975f1a",
   "metadata": {},
   "outputs": [
    {
     "name": "stdout",
     "output_type": "stream",
     "text": [
      "[77 73 30 37 72 21 83 91 48  2  8 51 98]\n"
     ]
    }
   ],
   "source": [
    "print(y)"
   ]
  },
  {
   "cell_type": "code",
   "execution_count": 77,
   "id": "6d917c6e",
   "metadata": {},
   "outputs": [],
   "source": [
    "x= random.rand(6,8)"
   ]
  },
  {
   "cell_type": "code",
   "execution_count": 78,
   "id": "b87bc6b8",
   "metadata": {},
   "outputs": [
    {
     "name": "stdout",
     "output_type": "stream",
     "text": [
      "[[0.35997122 0.67850049 0.48133078 0.01280936 0.08318043 0.7972328\n",
      "  0.80219036 0.25409361]\n",
      " [0.23773102 0.1905718  0.29590424 0.15061661 0.59485118 0.7920875\n",
      "  0.34604131 0.92966748]\n",
      " [0.28027012 0.34595984 0.81215524 0.48983943 0.45545017 0.22898146\n",
      "  0.48515015 0.83494701]\n",
      " [0.42234867 0.52574252 0.74861363 0.65288432 0.65620823 0.84271428\n",
      "  0.54349813 0.6245305 ]\n",
      " [0.49323145 0.49447831 0.14221249 0.05939759 0.04527353 0.18091691\n",
      "  0.65836296 0.58285319]\n",
      " [0.23719537 0.73064351 0.79329697 0.66405353 0.03326606 0.40660478\n",
      "  0.13852267 0.61492345]]\n"
     ]
    }
   ],
   "source": [
    "print(x)"
   ]
  },
  {
   "cell_type": "code",
   "execution_count": null,
   "id": "279c3827",
   "metadata": {},
   "outputs": [],
   "source": []
  }
 ],
 "metadata": {
  "kernelspec": {
   "display_name": "Python 3 (ipykernel)",
   "language": "python",
   "name": "python3"
  },
  "language_info": {
   "codemirror_mode": {
    "name": "ipython",
    "version": 3
   },
   "file_extension": ".py",
   "mimetype": "text/x-python",
   "name": "python",
   "nbconvert_exporter": "python",
   "pygments_lexer": "ipython3",
   "version": "3.10.7"
  },
  "vscode": {
   "interpreter": {
    "hash": "4e4a7476d8190069ff101fcbf3502c9aac5a9f12615e9b7e2715bdbf3baef4cb"
   }
  }
 },
 "nbformat": 4,
 "nbformat_minor": 5
}
